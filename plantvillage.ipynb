{
 "cells": [
  {
   "cell_type": "code",
   "execution_count": 6,
   "metadata": {},
   "outputs": [
    {
     "name": "stdout",
     "output_type": "stream",
     "text": [
      "Requirement already satisfied: tensorflow in ./env/lib/python3.8/site-packages (2.7.0)\n",
      "Requirement already satisfied: tensorflow_quantum in ./env/lib/python3.8/site-packages (0.7.2)\n",
      "Requirement already satisfied: tensorflow_datasets in ./env/lib/python3.8/site-packages (4.9.2)\n",
      "Requirement already satisfied: numpy>=1.14.5 in ./env/lib/python3.8/site-packages (from tensorflow) (1.24.4)\n",
      "Requirement already satisfied: absl-py>=0.4.0 in ./env/lib/python3.8/site-packages (from tensorflow) (1.4.0)\n",
      "Requirement already satisfied: astunparse>=1.6.0 in ./env/lib/python3.8/site-packages (from tensorflow) (1.6.3)\n",
      "Requirement already satisfied: libclang>=9.0.1 in ./env/lib/python3.8/site-packages (from tensorflow) (16.0.6)\n",
      "Requirement already satisfied: flatbuffers<3.0,>=1.12 in ./env/lib/python3.8/site-packages (from tensorflow) (2.0.7)\n",
      "Requirement already satisfied: google-pasta>=0.1.1 in ./env/lib/python3.8/site-packages (from tensorflow) (0.2.0)\n",
      "Requirement already satisfied: h5py>=2.9.0 in ./env/lib/python3.8/site-packages (from tensorflow) (3.10.0)\n",
      "Requirement already satisfied: keras-preprocessing>=1.1.1 in ./env/lib/python3.8/site-packages (from tensorflow) (1.1.2)\n",
      "Requirement already satisfied: opt-einsum>=2.3.2 in ./env/lib/python3.8/site-packages (from tensorflow) (3.3.0)\n",
      "Requirement already satisfied: protobuf>=3.9.2 in ./env/lib/python3.8/site-packages (from tensorflow) (3.17.3)\n",
      "Requirement already satisfied: six>=1.12.0 in ./env/lib/python3.8/site-packages (from tensorflow) (1.16.0)\n",
      "Requirement already satisfied: termcolor>=1.1.0 in ./env/lib/python3.8/site-packages (from tensorflow) (2.4.0)\n",
      "Requirement already satisfied: typing-extensions>=3.6.6 in ./env/lib/python3.8/site-packages (from tensorflow) (4.10.0)\n",
      "Requirement already satisfied: wheel<1.0,>=0.32.0 in ./env/lib/python3.8/site-packages (from tensorflow) (0.43.0)\n",
      "Requirement already satisfied: wrapt>=1.11.0 in ./env/lib/python3.8/site-packages (from tensorflow) (1.16.0)\n",
      "Requirement already satisfied: gast<0.5.0,>=0.2.1 in ./env/lib/python3.8/site-packages (from tensorflow) (0.4.0)\n",
      "Requirement already satisfied: tensorboard~=2.6 in ./env/lib/python3.8/site-packages (from tensorflow) (2.11.2)\n",
      "Requirement already satisfied: tensorflow-estimator<2.8,~=2.7.0rc0 in ./env/lib/python3.8/site-packages (from tensorflow) (2.7.0)\n",
      "Requirement already satisfied: keras<2.8,>=2.7.0rc0 in ./env/lib/python3.8/site-packages (from tensorflow) (2.7.0)\n",
      "Requirement already satisfied: tensorflow-io-gcs-filesystem>=0.21.0 in ./env/lib/python3.8/site-packages (from tensorflow) (0.34.0)\n",
      "Requirement already satisfied: grpcio<2.0,>=1.24.3 in ./env/lib/python3.8/site-packages (from tensorflow) (1.62.1)\n",
      "Requirement already satisfied: cirq-core==0.13.1 in ./env/lib/python3.8/site-packages (from tensorflow_quantum) (0.13.1)\n",
      "Requirement already satisfied: cirq-google>=0.13.1 in ./env/lib/python3.8/site-packages (from tensorflow_quantum) (0.13.1)\n",
      "Requirement already satisfied: sympy==1.8 in ./env/lib/python3.8/site-packages (from tensorflow_quantum) (1.8)\n",
      "Requirement already satisfied: googleapis-common-protos==1.52.0 in ./env/lib/python3.8/site-packages (from tensorflow_quantum) (1.52.0)\n",
      "Requirement already satisfied: google-api-core==1.21.0 in ./env/lib/python3.8/site-packages (from tensorflow_quantum) (1.21.0)\n",
      "Requirement already satisfied: google-auth==1.18.0 in ./env/lib/python3.8/site-packages (from tensorflow_quantum) (1.18.0)\n",
      "Requirement already satisfied: duet~=0.2.0 in ./env/lib/python3.8/site-packages (from cirq-core==0.13.1->tensorflow_quantum) (0.2.8)\n",
      "Requirement already satisfied: matplotlib~=3.0 in ./env/lib/python3.8/site-packages (from cirq-core==0.13.1->tensorflow_quantum) (3.7.5)\n",
      "Requirement already satisfied: networkx~=2.4 in ./env/lib/python3.8/site-packages (from cirq-core==0.13.1->tensorflow_quantum) (2.8.8)\n",
      "Requirement already satisfied: pandas in ./env/lib/python3.8/site-packages (from cirq-core==0.13.1->tensorflow_quantum) (2.0.3)\n",
      "Requirement already satisfied: scipy in ./env/lib/python3.8/site-packages (from cirq-core==0.13.1->tensorflow_quantum) (1.10.1)\n",
      "Requirement already satisfied: sortedcontainers~=2.0 in ./env/lib/python3.8/site-packages (from cirq-core==0.13.1->tensorflow_quantum) (2.4.0)\n",
      "Requirement already satisfied: tqdm in ./env/lib/python3.8/site-packages (from cirq-core==0.13.1->tensorflow_quantum) (4.66.2)\n",
      "Requirement already satisfied: requests<3.0.0dev,>=2.18.0 in ./env/lib/python3.8/site-packages (from google-api-core==1.21.0->tensorflow_quantum) (2.31.0)\n",
      "Requirement already satisfied: setuptools>=34.0.0 in ./env/lib/python3.8/site-packages (from google-api-core==1.21.0->tensorflow_quantum) (44.0.0)\n",
      "Requirement already satisfied: pytz in ./env/lib/python3.8/site-packages (from google-api-core==1.21.0->tensorflow_quantum) (2024.1)\n",
      "Requirement already satisfied: cachetools<5.0,>=2.0.0 in ./env/lib/python3.8/site-packages (from google-auth==1.18.0->tensorflow_quantum) (4.2.4)\n",
      "Requirement already satisfied: pyasn1-modules>=0.2.1 in ./env/lib/python3.8/site-packages (from google-auth==1.18.0->tensorflow_quantum) (0.3.0)\n",
      "Requirement already satisfied: rsa<5,>=3.1.4 in ./env/lib/python3.8/site-packages (from google-auth==1.18.0->tensorflow_quantum) (4.9)\n",
      "Requirement already satisfied: mpmath>=0.19 in ./env/lib/python3.8/site-packages (from sympy==1.8->tensorflow_quantum) (1.3.0)\n",
      "Requirement already satisfied: array-record in ./env/lib/python3.8/site-packages (from tensorflow_datasets) (0.4.0)\n",
      "Requirement already satisfied: click in ./env/lib/python3.8/site-packages (from tensorflow_datasets) (8.1.7)\n",
      "Requirement already satisfied: dm-tree in ./env/lib/python3.8/site-packages (from tensorflow_datasets) (0.1.8)\n",
      "Requirement already satisfied: etils>=0.9.0 in ./env/lib/python3.8/site-packages (from etils[enp,epath]>=0.9.0->tensorflow_datasets) (1.3.0)\n",
      "Requirement already satisfied: promise in ./env/lib/python3.8/site-packages (from tensorflow_datasets) (2.3)\n",
      "INFO: pip is looking at multiple versions of tensorflow-datasets to determine which version is compatible with other requirements. This could take a while.\n",
      "Collecting tensorflow_datasets\n",
      "  Downloading tensorflow_datasets-4.9.1-py3-none-any.whl.metadata (9.0 kB)\n",
      "  Downloading tensorflow_datasets-4.9.0-py3-none-any.whl.metadata (9.0 kB)\n",
      "Requirement already satisfied: psutil in ./env/lib/python3.8/site-packages (from tensorflow_datasets) (5.9.8)\n",
      "Requirement already satisfied: tensorflow-metadata in ./env/lib/python3.8/site-packages (from tensorflow_datasets) (1.14.0)\n",
      "Requirement already satisfied: toml in ./env/lib/python3.8/site-packages (from tensorflow_datasets) (0.10.2)\n",
      "Requirement already satisfied: importlib-resources in ./env/lib/python3.8/site-packages (from tensorflow_datasets) (6.1.3)\n",
      "Requirement already satisfied: zipp in ./env/lib/python3.8/site-packages (from etils[enp,epath]>=0.9.0->tensorflow_datasets) (3.17.0)\n",
      "Requirement already satisfied: charset-normalizer<4,>=2 in ./env/lib/python3.8/site-packages (from requests<3.0.0dev,>=2.18.0->google-api-core==1.21.0->tensorflow_quantum) (3.3.2)\n",
      "Requirement already satisfied: idna<4,>=2.5 in ./env/lib/python3.8/site-packages (from requests<3.0.0dev,>=2.18.0->google-api-core==1.21.0->tensorflow_quantum) (3.6)\n",
      "Requirement already satisfied: urllib3<3,>=1.21.1 in ./env/lib/python3.8/site-packages (from requests<3.0.0dev,>=2.18.0->google-api-core==1.21.0->tensorflow_quantum) (2.2.1)\n",
      "Requirement already satisfied: certifi>=2017.4.17 in ./env/lib/python3.8/site-packages (from requests<3.0.0dev,>=2.18.0->google-api-core==1.21.0->tensorflow_quantum) (2024.2.2)\n",
      "Requirement already satisfied: google-auth-oauthlib<0.5,>=0.4.1 in ./env/lib/python3.8/site-packages (from tensorboard~=2.6->tensorflow) (0.4.6)\n",
      "Requirement already satisfied: markdown>=2.6.8 in ./env/lib/python3.8/site-packages (from tensorboard~=2.6->tensorflow) (3.5.2)\n",
      "Requirement already satisfied: tensorboard-data-server<0.7.0,>=0.6.0 in ./env/lib/python3.8/site-packages (from tensorboard~=2.6->tensorflow) (0.6.1)\n",
      "Requirement already satisfied: tensorboard-plugin-wit>=1.6.0 in ./env/lib/python3.8/site-packages (from tensorboard~=2.6->tensorflow) (1.8.1)\n",
      "Requirement already satisfied: werkzeug>=1.0.1 in ./env/lib/python3.8/site-packages (from tensorboard~=2.6->tensorflow) (3.0.1)\n",
      "INFO: pip is looking at multiple versions of tensorflow-metadata to determine which version is compatible with other requirements. This could take a while.\n",
      "Collecting tensorflow-metadata (from tensorflow_datasets)\n",
      "  Downloading tensorflow_metadata-1.13.1-py3-none-any.whl.metadata (2.1 kB)\n",
      "  Downloading tensorflow_metadata-1.13.0-py3-none-any.whl.metadata (2.1 kB)\n",
      "Requirement already satisfied: requests-oauthlib>=0.7.0 in ./env/lib/python3.8/site-packages (from google-auth-oauthlib<0.5,>=0.4.1->tensorboard~=2.6->tensorflow) (1.4.0)\n",
      "Requirement already satisfied: importlib-metadata>=4.4 in ./env/lib/python3.8/site-packages (from markdown>=2.6.8->tensorboard~=2.6->tensorflow) (7.0.2)\n",
      "Requirement already satisfied: contourpy>=1.0.1 in ./env/lib/python3.8/site-packages (from matplotlib~=3.0->cirq-core==0.13.1->tensorflow_quantum) (1.1.1)\n",
      "Requirement already satisfied: cycler>=0.10 in ./env/lib/python3.8/site-packages (from matplotlib~=3.0->cirq-core==0.13.1->tensorflow_quantum) (0.12.1)\n",
      "Requirement already satisfied: fonttools>=4.22.0 in ./env/lib/python3.8/site-packages (from matplotlib~=3.0->cirq-core==0.13.1->tensorflow_quantum) (4.49.0)\n",
      "Requirement already satisfied: kiwisolver>=1.0.1 in ./env/lib/python3.8/site-packages (from matplotlib~=3.0->cirq-core==0.13.1->tensorflow_quantum) (1.4.5)\n",
      "Requirement already satisfied: packaging>=20.0 in ./env/lib/python3.8/site-packages (from matplotlib~=3.0->cirq-core==0.13.1->tensorflow_quantum) (24.0)\n",
      "Requirement already satisfied: pillow>=6.2.0 in ./env/lib/python3.8/site-packages (from matplotlib~=3.0->cirq-core==0.13.1->tensorflow_quantum) (10.2.0)\n",
      "Requirement already satisfied: pyparsing>=2.3.1 in ./env/lib/python3.8/site-packages (from matplotlib~=3.0->cirq-core==0.13.1->tensorflow_quantum) (3.1.2)\n",
      "Requirement already satisfied: python-dateutil>=2.7 in ./env/lib/python3.8/site-packages (from matplotlib~=3.0->cirq-core==0.13.1->tensorflow_quantum) (2.9.0.post0)\n",
      "Requirement already satisfied: pyasn1<0.6.0,>=0.4.6 in ./env/lib/python3.8/site-packages (from pyasn1-modules>=0.2.1->google-auth==1.18.0->tensorflow_quantum) (0.5.1)\n",
      "Requirement already satisfied: MarkupSafe>=2.1.1 in ./env/lib/python3.8/site-packages (from werkzeug>=1.0.1->tensorboard~=2.6->tensorflow) (2.1.5)\n",
      "Requirement already satisfied: tzdata>=2022.1 in ./env/lib/python3.8/site-packages (from pandas->cirq-core==0.13.1->tensorflow_quantum) (2024.1)\n",
      "Requirement already satisfied: oauthlib>=3.0.0 in ./env/lib/python3.8/site-packages (from requests-oauthlib>=0.7.0->google-auth-oauthlib<0.5,>=0.4.1->tensorboard~=2.6->tensorflow) (3.2.2)\n",
      "Downloading tensorflow_datasets-4.9.0-py3-none-any.whl (5.4 MB)\n",
      "\u001b[2K   \u001b[90m━━━━━━━━━━━━━━━━━━━━━━━━━━━━━━━━━━━━━━━━\u001b[0m \u001b[32m5.4/5.4 MB\u001b[0m \u001b[31m1.5 MB/s\u001b[0m eta \u001b[36m0:00:00\u001b[0m00:01\u001b[0m00:01\u001b[0m\n",
      "\u001b[?25hDownloading tensorflow_metadata-1.13.0-py3-none-any.whl (53 kB)\n",
      "\u001b[2K   \u001b[90m━━━━━━━━━━━━━━━━━━━━━━━━━━━━━━━━━━━━━━━━\u001b[0m \u001b[32m53.3/53.3 kB\u001b[0m \u001b[31m1.9 MB/s\u001b[0m eta \u001b[36m0:00:00\u001b[0m\n",
      "\u001b[?25hInstalling collected packages: tensorflow-metadata, tensorflow_datasets\n",
      "  Attempting uninstall: tensorflow-metadata\n",
      "    Found existing installation: tensorflow-metadata 1.14.0\n",
      "    Uninstalling tensorflow-metadata-1.14.0:\n",
      "      Successfully uninstalled tensorflow-metadata-1.14.0\n",
      "  Attempting uninstall: tensorflow_datasets\n",
      "    Found existing installation: tensorflow-datasets 4.9.2\n",
      "    Uninstalling tensorflow-datasets-4.9.2:\n",
      "      Successfully uninstalled tensorflow-datasets-4.9.2\n",
      "Successfully installed tensorflow-metadata-1.13.0 tensorflow_datasets-4.9.0\n",
      "Note: you may need to restart the kernel to use updated packages.\n"
     ]
    }
   ],
   "source": [
    "%pip install tensorflow tensorflow_quantum tensorflow_datasets"
   ]
  },
  {
   "cell_type": "code",
   "execution_count": 7,
   "metadata": {},
   "outputs": [
    {
     "name": "stderr",
     "output_type": "stream",
     "text": [
      "ERROR:absl:module 'tensorflow_datasets.core' has no attribute 'utils'\n",
      "Traceback (most recent call last):\n",
      "  File \"/home/raag/sdp/env/lib/python3.8/site-packages/tensorflow_datasets/__init__.py\", line 59, in <module>\n",
      "    from tensorflow_datasets import audio\n",
      "  File \"/home/raag/sdp/env/lib/python3.8/site-packages/tensorflow_datasets/audio/__init__.py\", line 19, in <module>\n",
      "    from tensorflow_datasets.audio.commonvoice import CommonVoice\n",
      "  File \"/home/raag/sdp/env/lib/python3.8/site-packages/tensorflow_datasets/audio/commonvoice.py\", line 27, in <module>\n",
      "    import tensorflow_datasets.public_api as tfds\n",
      "  File \"/home/raag/sdp/env/lib/python3.8/site-packages/tensorflow_datasets/public_api.py\", line 57, in <module>\n",
      "    deprecated = core.utils.docs.deprecated(deprecated)\n",
      "AttributeError: module 'tensorflow_datasets.core' has no attribute 'utils'\n"
     ]
    }
   ],
   "source": [
    "import tensorflow as tf\n",
    "import tensorflow_datasets as tfds"
   ]
  },
  {
   "cell_type": "code",
   "execution_count": null,
   "metadata": {},
   "outputs": [],
   "source": [
    "builder = tfds.builder('plant_village')\n",
    "builder.download_and_prepare()"
   ]
  },
  {
   "cell_type": "code",
   "execution_count": null,
   "metadata": {},
   "outputs": [],
   "source": [
    "ds_train, ds_test = builder.as_dataset(split=['train', 'test'], shuffle_files=True)"
   ]
  },
  {
   "cell_type": "code",
   "execution_count": null,
   "metadata": {},
   "outputs": [],
   "source": [
    "# Print dataset info\n",
    "print(builder.info)\n",
    "\n",
    "# Iterate through the dataset\n",
    "for example in ds_train.take(5):  # Take 5 examples for demonstration\n",
    "    image, label = example['image'], example['label']\n",
    "    # Perform operations on image and label as needed"
   ]
  },
  {
   "cell_type": "code",
   "execution_count": null,
   "metadata": {},
   "outputs": [],
   "source": [
    "import matplotlib.pyplot as plt\n",
    "\n",
    "# Plot sample images\n",
    "for example in ds_train.take(3):  # Take 3 examples for plotting\n",
    "    image, label = example['image'], example['label']\n",
    "    plt.imshow(image)\n",
    "    plt.title(label.numpy())\n",
    "    plt.show()"
   ]
  }
 ],
 "metadata": {
  "kernelspec": {
   "display_name": "env",
   "language": "python",
   "name": "python3"
  },
  "language_info": {
   "codemirror_mode": {
    "name": "ipython",
    "version": 3
   },
   "file_extension": ".py",
   "mimetype": "text/x-python",
   "name": "python",
   "nbconvert_exporter": "python",
   "pygments_lexer": "ipython3",
   "version": "3.8.10"
  }
 },
 "nbformat": 4,
 "nbformat_minor": 2
}
