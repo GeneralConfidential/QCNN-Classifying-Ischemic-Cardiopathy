{
 "cells": [
  {
   "cell_type": "code",
   "execution_count": 5,
   "metadata": {},
   "outputs": [],
   "source": [
    "import cv2\n",
    "import os\n",
    "import numpy as np"
   ]
  },
  {
   "cell_type": "code",
   "execution_count": 6,
   "metadata": {},
   "outputs": [],
   "source": [
    "base_dir = \"./data\"\n",
    "\n",
    "sub_dirs = ['Training', 'Testing']\n",
    "categories = ['glioma', 'meningioma', 'notumor', 'pituitary']\n",
    "\n",
    "images = {'Training': {}, 'Testing': {}}\n",
    "resize_dim = (224, 224)\n",
    "\n",
    "for sub_dir in sub_dirs:\n",
    "    for category in categories:\n",
    "        category_path = os.path.join(base_dir, sub_dir, category)\n",
    "        images[sub_dir][category] = []\n",
    "        \n",
    "        if os.path.exists(category_path):\n",
    "            for img_name in os.listdir(category_path):\n",
    "                img_path = os.path.join(category_path, img_name)\n",
    "                img = cv2.imread(img_path)\n",
    "                img = cv2.resize(img, resize_dim)\n",
    "                # img = cv2.cvtColor(img, cv2.COLOR_BGR2GRAY)\n",
    "                images[sub_dir][category].append(img)\n",
    "        else:\n",
    "            print(f\"Category path does not exist: {category_path}\")"
   ]
  },
  {
   "cell_type": "code",
   "execution_count": 7,
   "metadata": {},
   "outputs": [
    {
     "name": "stdout",
     "output_type": "stream",
     "text": [
      "Loaded 300 glioma images from the Testing set.\n"
     ]
    }
   ],
   "source": [
    "test_glioma_images = images['Testing']['glioma']\n",
    "\n",
    "print(f\"Loaded {len(test_glioma_images)} glioma images from the Testing set.\")"
   ]
  }
 ],
 "metadata": {
  "kernelspec": {
   "display_name": "env",
   "language": "python",
   "name": "python3"
  },
  "language_info": {
   "codemirror_mode": {
    "name": "ipython",
    "version": 3
   },
   "file_extension": ".py",
   "mimetype": "text/x-python",
   "name": "python",
   "nbconvert_exporter": "python",
   "pygments_lexer": "ipython3",
   "version": "3.8.10"
  }
 },
 "nbformat": 4,
 "nbformat_minor": 2
}
