{
 "cells": [
  {
   "cell_type": "code",
   "execution_count": 6,
   "metadata": {},
   "outputs": [
    {
     "name": "stdout",
     "output_type": "stream",
     "text": [
      "Requirement already satisfied: pip in ./env/lib/python3.8/site-packages (24.0)\n",
      "Note: you may need to restart the kernel to use updated packages.\n",
      "Found existing installation: tensorflow 2.11.0\n",
      "Uninstalling tensorflow-2.11.0:\n",
      "  Would remove:\n",
      "    /home/raag/sdp/env/bin/estimator_ckpt_converter\n",
      "    /home/raag/sdp/env/bin/import_pb_to_tensorboard\n",
      "    /home/raag/sdp/env/bin/saved_model_cli\n",
      "    /home/raag/sdp/env/bin/tensorboard\n",
      "    /home/raag/sdp/env/bin/tf_upgrade_v2\n",
      "    /home/raag/sdp/env/bin/tflite_convert\n",
      "    /home/raag/sdp/env/bin/toco\n",
      "    /home/raag/sdp/env/bin/toco_from_protos\n",
      "    /home/raag/sdp/env/lib/python3.8/site-packages/tensorflow-2.11.0.dist-info/*\n",
      "    /home/raag/sdp/env/lib/python3.8/site-packages/tensorflow/*\n",
      "Proceed (Y/n)? "
     ]
    }
   ],
   "source": [
    "%pip install --upgrade pip\n",
    "%pip uninstall tensorflow tensorflow-quantum\n",
    "%pip install tensorflow==2.7.0\n",
    "%pip install tensorflow-quantum==0.7.2\n"
   ]
  },
  {
   "cell_type": "code",
   "execution_count": null,
   "metadata": {},
   "outputs": [],
   "source": []
  },
  {
   "cell_type": "code",
   "execution_count": 1,
   "metadata": {},
   "outputs": [],
   "source": [
    "import cv2\n",
    "import os\n",
    "import numpy as np\n",
    "\n",
    "#os.environ['PROTOCOL_BUFFERS_PYTHON_IMPLEMENTATION'] = 'python'"
   ]
  },
  {
   "cell_type": "code",
   "execution_count": 2,
   "metadata": {},
   "outputs": [],
   "source": [
    "base_dir = \"./data\" \n",
    "sub_dirs = [\n",
    "    'train',\n",
    "    'test'\n",
    "]  \n",
    "categories = [\n",
    "    'Apple Scab Leaf',\n",
    "    'Apple leaf',\n",
    "    'Apple rust leaf',\n",
    "    'Bell_pepper leaf',\n",
    "    'Bell_pepper leaf spot',\n",
    "    'Blueberry leaf',\n",
    "    'Cherry leaf',\n",
    "    'Corn Gray leaf spot',\n",
    "    'Corn leaf blight',\n",
    "    'Corn rust leaf',\n",
    "    'Peach leaf',\n",
    "    'Potato leaf early blight',\n",
    "    'Potato leaf late blight',\n",
    "    'Raspberry leaf',\n",
    "    'Soyabean leaf',\n",
    "    'Squash Powdery mildew leaf',\n",
    "    'Strawberry leaf',\n",
    "    'Tomato Early blight leaf',\n",
    "    'Tomato Septoria leaf spot',\n",
    "    'Tomato leaf',\n",
    "    'Tomato leaf bacterial spot',\n",
    "    'Tomato leaf late blight',\n",
    "    'Tomato leaf mosaic virus',\n",
    "    'Tomato leaf yellow virus',\n",
    "    'Tomato mold leaf',\n",
    "    'Tomato two spotted spider mites leaf',\n",
    "    'grape leaf',\n",
    "    'grape leaf black rot'\n",
    "]\n",
    "\n",
    "images = {\n",
    "    'train': {},\n",
    "    'test': {}\n",
    "}\n",
    "\n",
    "resize_dim = (224, 224)"
   ]
  },
  {
   "cell_type": "code",
   "execution_count": 3,
   "metadata": {},
   "outputs": [
    {
     "name": "stdout",
     "output_type": "stream",
     "text": [
      "Category path does not exist: ./data/test/Tomato two spotted spider mites leaf\n"
     ]
    }
   ],
   "source": [
    "for sub_dir in sub_dirs:\n",
    "    for category in categories:\n",
    "        category_path = os.path.join(base_dir, sub_dir, category)\n",
    "        images[sub_dir][category] = []\n",
    "        \n",
    "        if os.path.exists(category_path):\n",
    "            for img_name in os.listdir(category_path):\n",
    "                img_path = os.path.join(category_path, img_name)\n",
    "                img = cv2.imread(img_path)\n",
    "                img = cv2.resize(img, resize_dim)\n",
    "                # img = cv2.cvtColor(img, cv2.COLOR_BGR2GRAY)\n",
    "                images[sub_dir][category].append(img)\n",
    "        else:\n",
    "            print(f\"Category path does not exist: {category_path}\")\n"
   ]
  },
  {
   "cell_type": "code",
   "execution_count": 4,
   "metadata": {},
   "outputs": [
    {
     "name": "stdout",
     "output_type": "stream",
     "text": [
      "Loaded 8 Tomato leaf images from the Testing set.\n"
     ]
    }
   ],
   "source": [
    "test_tomato_leaf_images = images['test']['Tomato leaf']\n",
    "\n",
    "print(f\"Loaded {len(test_tomato_leaf_images)} Tomato leaf images from the Testing set.\")"
   ]
  },
  {
   "cell_type": "code",
   "execution_count": 5,
   "metadata": {},
   "outputs": [
    {
     "name": "stderr",
     "output_type": "stream",
     "text": [
      "2024-03-12 21:11:02.523199: I tensorflow/core/platform/cpu_feature_guard.cc:193] This TensorFlow binary is optimized with oneAPI Deep Neural Network Library (oneDNN) to use the following CPU instructions in performance-critical operations:  AVX2 AVX_VNNI FMA\n",
      "To enable them in other operations, rebuild TensorFlow with the appropriate compiler flags.\n",
      "2024-03-12 21:11:02.654869: I tensorflow/core/util/port.cc:104] oneDNN custom operations are on. You may see slightly different numerical results due to floating-point round-off errors from different computation orders. To turn them off, set the environment variable `TF_ENABLE_ONEDNN_OPTS=0`.\n",
      "2024-03-12 21:11:02.663803: W tensorflow/compiler/xla/stream_executor/platform/default/dso_loader.cc:64] Could not load dynamic library 'libcudart.so.11.0'; dlerror: libcudart.so.11.0: cannot open shared object file: No such file or directory; LD_LIBRARY_PATH: /home/raag/sdp/env/lib/python3.8/site-packages/cv2/../../lib64:\n",
      "2024-03-12 21:11:02.663841: I tensorflow/compiler/xla/stream_executor/cuda/cudart_stub.cc:29] Ignore above cudart dlerror if you do not have a GPU set up on your machine.\n",
      "2024-03-12 21:11:03.203579: W tensorflow/compiler/xla/stream_executor/platform/default/dso_loader.cc:64] Could not load dynamic library 'libnvinfer.so.7'; dlerror: libnvinfer.so.7: cannot open shared object file: No such file or directory; LD_LIBRARY_PATH: /home/raag/sdp/env/lib/python3.8/site-packages/cv2/../../lib64:\n",
      "2024-03-12 21:11:03.203672: W tensorflow/compiler/xla/stream_executor/platform/default/dso_loader.cc:64] Could not load dynamic library 'libnvinfer_plugin.so.7'; dlerror: libnvinfer_plugin.so.7: cannot open shared object file: No such file or directory; LD_LIBRARY_PATH: /home/raag/sdp/env/lib/python3.8/site-packages/cv2/../../lib64:\n",
      "2024-03-12 21:11:03.203799: W tensorflow/compiler/tf2tensorrt/utils/py_utils.cc:38] TF-TRT Warning: Cannot dlopen some TensorRT libraries. If you would like to use Nvidia GPU with TensorRT, please make sure the missing libraries mentioned above are installed properly.\n"
     ]
    },
    {
     "ename": "NotFoundError",
     "evalue": "/home/raag/sdp/env/lib/python3.8/site-packages/tensorflow_quantum/core/ops/_tfq_simulate_ops.so: undefined symbol: _ZNK10tensorflow8OpKernel11TraceStringERKNS_15OpKernelContextEb",
     "output_type": "error",
     "traceback": [
      "\u001b[0;31m---------------------------------------------------------------------------\u001b[0m",
      "\u001b[0;31mNotFoundError\u001b[0m                             Traceback (most recent call last)",
      "File \u001b[0;32m~/sdp/env/lib/python3.8/site-packages/tensorflow_quantum/core/ops/load_module.py:42\u001b[0m, in \u001b[0;36mload_module\u001b[0;34m(name)\u001b[0m\n\u001b[1;32m     41\u001b[0m     path \u001b[38;5;241m=\u001b[39m resource_loader\u001b[38;5;241m.\u001b[39mget_path_to_datafile(name)\n\u001b[0;32m---> 42\u001b[0m     \u001b[38;5;28;01mreturn\u001b[39;00m \u001b[43mload_library\u001b[49m\u001b[38;5;241;43m.\u001b[39;49m\u001b[43mload_op_library\u001b[49m\u001b[43m(\u001b[49m\u001b[43mpath\u001b[49m\u001b[43m)\u001b[49m\n\u001b[1;32m     43\u001b[0m \u001b[38;5;28;01mexcept\u001b[39;00m:\n",
      "File \u001b[0;32m~/sdp/env/lib/python3.8/site-packages/tensorflow/python/framework/load_library.py:54\u001b[0m, in \u001b[0;36mload_op_library\u001b[0;34m(library_filename)\u001b[0m\n\u001b[1;32m     33\u001b[0m \u001b[38;5;250m\u001b[39m\u001b[38;5;124;03m\"\"\"Loads a TensorFlow plugin, containing custom ops and kernels.\u001b[39;00m\n\u001b[1;32m     34\u001b[0m \n\u001b[1;32m     35\u001b[0m \u001b[38;5;124;03mPass \"library_filename\" to a platform-specific mechanism for dynamically\u001b[39;00m\n\u001b[0;32m   (...)\u001b[0m\n\u001b[1;32m     52\u001b[0m \u001b[38;5;124;03m  RuntimeError: when unable to load the library or get the python wrappers.\u001b[39;00m\n\u001b[1;32m     53\u001b[0m \u001b[38;5;124;03m\"\"\"\u001b[39;00m\n\u001b[0;32m---> 54\u001b[0m lib_handle \u001b[38;5;241m=\u001b[39m \u001b[43mpy_tf\u001b[49m\u001b[38;5;241;43m.\u001b[39;49m\u001b[43mTF_LoadLibrary\u001b[49m\u001b[43m(\u001b[49m\u001b[43mlibrary_filename\u001b[49m\u001b[43m)\u001b[49m\n\u001b[1;32m     55\u001b[0m \u001b[38;5;28;01mtry\u001b[39;00m:\n",
      "\u001b[0;31mNotFoundError\u001b[0m: /home/raag/sdp/env/lib/python3.8/site-packages/tensorflow_quantum/core/ops/_tfq_simulate_ops.so: undefined symbol: _ZNK10tensorflow8OpKernel11TraceStringERKNS_15OpKernelContextEb",
      "\nDuring handling of the above exception, another exception occurred:\n",
      "\u001b[0;31mNotFoundError\u001b[0m                             Traceback (most recent call last)",
      "Cell \u001b[0;32mIn[5], line 2\u001b[0m\n\u001b[1;32m      1\u001b[0m \u001b[38;5;28;01mimport\u001b[39;00m \u001b[38;5;21;01mtensorflow\u001b[39;00m \u001b[38;5;28;01mas\u001b[39;00m \u001b[38;5;21;01mtf\u001b[39;00m\n\u001b[0;32m----> 2\u001b[0m \u001b[38;5;28;01mimport\u001b[39;00m \u001b[38;5;21;01mtensorflow_quantum\u001b[39;00m \u001b[38;5;28;01mas\u001b[39;00m \u001b[38;5;21;01mtfq\u001b[39;00m\n\u001b[1;32m      3\u001b[0m \u001b[38;5;28;01mimport\u001b[39;00m \u001b[38;5;21;01mcirq\u001b[39;00m\n\u001b[1;32m      4\u001b[0m \u001b[38;5;28;01mimport\u001b[39;00m \u001b[38;5;21;01msympy\u001b[39;00m\n",
      "File \u001b[0;32m~/sdp/env/lib/python3.8/site-packages/tensorflow_quantum/__init__.py:18\u001b[0m\n\u001b[1;32m     15\u001b[0m \u001b[38;5;124;03m\"\"\"Module functions for tensorflow_quantum.*\"\"\"\u001b[39;00m\n\u001b[1;32m     17\u001b[0m \u001b[38;5;66;03m# Import basic ops and op getters.\u001b[39;00m\n\u001b[0;32m---> 18\u001b[0m \u001b[38;5;28;01mfrom\u001b[39;00m \u001b[38;5;21;01mtensorflow_quantum\u001b[39;00m\u001b[38;5;21;01m.\u001b[39;00m\u001b[38;5;21;01mcore\u001b[39;00m \u001b[38;5;28;01mimport\u001b[39;00m (append_circuit, get_expectation_op,\n\u001b[1;32m     19\u001b[0m                                      get_sampled_expectation_op,\n\u001b[1;32m     20\u001b[0m                                      get_sampling_op, get_state_op,\n\u001b[1;32m     21\u001b[0m                                      get_unitary_op, padded_to_ragged,\n\u001b[1;32m     22\u001b[0m                                      padded_to_ragged2d, resolve_parameters)\n\u001b[1;32m     24\u001b[0m \u001b[38;5;66;03m# Import math ops.\u001b[39;00m\n\u001b[1;32m     25\u001b[0m \u001b[38;5;28;01mfrom\u001b[39;00m \u001b[38;5;21;01mtensorflow_quantum\u001b[39;00m\u001b[38;5;21;01m.\u001b[39;00m\u001b[38;5;21;01mcore\u001b[39;00m \u001b[38;5;28;01mimport\u001b[39;00m math_ops \u001b[38;5;28;01mas\u001b[39;00m math\n",
      "File \u001b[0;32m~/sdp/env/lib/python3.8/site-packages/tensorflow_quantum/core/__init__.py:17\u001b[0m\n\u001b[1;32m     15\u001b[0m \u001b[38;5;124;03m\"\"\"Imports to tensorflow_quantum.core.* level.\"\"\"\u001b[39;00m\n\u001b[1;32m     16\u001b[0m \u001b[38;5;66;03m# Import getters for constructing ops.\u001b[39;00m\n\u001b[0;32m---> 17\u001b[0m \u001b[38;5;28;01mfrom\u001b[39;00m \u001b[38;5;21;01mtensorflow_quantum\u001b[39;00m\u001b[38;5;21;01m.\u001b[39;00m\u001b[38;5;21;01mcore\u001b[39;00m\u001b[38;5;21;01m.\u001b[39;00m\u001b[38;5;21;01mops\u001b[39;00m \u001b[38;5;28;01mimport\u001b[39;00m (get_expectation_op,\n\u001b[1;32m     18\u001b[0m                                          get_sampled_expectation_op,\n\u001b[1;32m     19\u001b[0m                                          get_sampling_op, get_state_op,\n\u001b[1;32m     20\u001b[0m                                          get_unitary_op)\n\u001b[1;32m     21\u001b[0m \u001b[38;5;66;03m# Import regular ops.\u001b[39;00m\n\u001b[1;32m     22\u001b[0m \u001b[38;5;28;01mfrom\u001b[39;00m \u001b[38;5;21;01mtensorflow_quantum\u001b[39;00m\u001b[38;5;21;01m.\u001b[39;00m\u001b[38;5;21;01mcore\u001b[39;00m\u001b[38;5;21;01m.\u001b[39;00m\u001b[38;5;21;01mops\u001b[39;00m \u001b[38;5;28;01mimport\u001b[39;00m (append_circuit, padded_to_ragged,\n\u001b[1;32m     23\u001b[0m                                          padded_to_ragged2d, resolve_parameters)\n",
      "File \u001b[0;32m~/sdp/env/lib/python3.8/site-packages/tensorflow_quantum/core/ops/__init__.py:18\u001b[0m\n\u001b[1;32m     15\u001b[0m \u001b[38;5;124;03m\"\"\"Module for tfq.core.ops.*\"\"\"\u001b[39;00m\n\u001b[1;32m     17\u001b[0m \u001b[38;5;66;03m# Import getters for constructing ops.\u001b[39;00m\n\u001b[0;32m---> 18\u001b[0m \u001b[38;5;28;01mfrom\u001b[39;00m \u001b[38;5;21;01mtensorflow_quantum\u001b[39;00m\u001b[38;5;21;01m.\u001b[39;00m\u001b[38;5;21;01mcore\u001b[39;00m\u001b[38;5;21;01m.\u001b[39;00m\u001b[38;5;21;01mops\u001b[39;00m\u001b[38;5;21;01m.\u001b[39;00m\u001b[38;5;21;01mcircuit_execution_ops\u001b[39;00m \u001b[38;5;28;01mimport\u001b[39;00m (\n\u001b[1;32m     19\u001b[0m     get_expectation_op, get_sampled_expectation_op, get_sampling_op,\n\u001b[1;32m     20\u001b[0m     get_state_op)\n\u001b[1;32m     22\u001b[0m \u001b[38;5;28;01mfrom\u001b[39;00m \u001b[38;5;21;01mtensorflow_quantum\u001b[39;00m\u001b[38;5;21;01m.\u001b[39;00m\u001b[38;5;21;01mcore\u001b[39;00m\u001b[38;5;21;01m.\u001b[39;00m\u001b[38;5;21;01mops\u001b[39;00m\u001b[38;5;21;01m.\u001b[39;00m\u001b[38;5;21;01mtfq_unitary_op\u001b[39;00m \u001b[38;5;28;01mimport\u001b[39;00m get_unitary_op\n\u001b[1;32m     23\u001b[0m \u001b[38;5;28;01mfrom\u001b[39;00m \u001b[38;5;21;01mtensorflow_quantum\u001b[39;00m\u001b[38;5;21;01m.\u001b[39;00m\u001b[38;5;21;01mcore\u001b[39;00m\u001b[38;5;21;01m.\u001b[39;00m\u001b[38;5;21;01mops\u001b[39;00m\u001b[38;5;21;01m.\u001b[39;00m\u001b[38;5;21;01mtfq_utility_ops\u001b[39;00m \u001b[38;5;28;01mimport\u001b[39;00m (append_circuit,\n\u001b[1;32m     24\u001b[0m                                                          padded_to_ragged,\n\u001b[1;32m     25\u001b[0m                                                          padded_to_ragged2d,\n\u001b[1;32m     26\u001b[0m                                                          resolve_parameters)\n",
      "File \u001b[0;32m~/sdp/env/lib/python3.8/site-packages/tensorflow_quantum/core/ops/circuit_execution_ops.py:20\u001b[0m\n\u001b[1;32m     16\u001b[0m \u001b[38;5;28;01mimport\u001b[39;00m \u001b[38;5;21;01menum\u001b[39;00m\n\u001b[1;32m     18\u001b[0m \u001b[38;5;28;01mimport\u001b[39;00m \u001b[38;5;21;01mcirq\u001b[39;00m\n\u001b[0;32m---> 20\u001b[0m \u001b[38;5;28;01mfrom\u001b[39;00m \u001b[38;5;21;01mtensorflow_quantum\u001b[39;00m\u001b[38;5;21;01m.\u001b[39;00m\u001b[38;5;21;01mcore\u001b[39;00m\u001b[38;5;21;01m.\u001b[39;00m\u001b[38;5;21;01mops\u001b[39;00m \u001b[38;5;28;01mimport\u001b[39;00m (cirq_ops, tfq_simulate_ops,\n\u001b[1;32m     21\u001b[0m                                          tfq_utility_ops)\n\u001b[1;32m     22\u001b[0m \u001b[38;5;28;01mfrom\u001b[39;00m \u001b[38;5;21;01mtensorflow_quantum\u001b[39;00m\u001b[38;5;21;01m.\u001b[39;00m\u001b[38;5;21;01mpython\u001b[39;00m \u001b[38;5;28;01mimport\u001b[39;00m quantum_context\n\u001b[1;32m     25\u001b[0m \u001b[38;5;28;01mclass\u001b[39;00m \u001b[38;5;21;01mTFQStateVectorSimulator\u001b[39;00m(enum\u001b[38;5;241m.\u001b[39mEnum):\n",
      "File \u001b[0;32m~/sdp/env/lib/python3.8/site-packages/tensorflow_quantum/core/ops/tfq_simulate_ops.py:19\u001b[0m\n\u001b[1;32m     16\u001b[0m \u001b[38;5;28;01mimport\u001b[39;00m \u001b[38;5;21;01mtensorflow\u001b[39;00m \u001b[38;5;28;01mas\u001b[39;00m \u001b[38;5;21;01mtf\u001b[39;00m\n\u001b[1;32m     17\u001b[0m \u001b[38;5;28;01mfrom\u001b[39;00m \u001b[38;5;21;01mtensorflow_quantum\u001b[39;00m\u001b[38;5;21;01m.\u001b[39;00m\u001b[38;5;21;01mcore\u001b[39;00m\u001b[38;5;21;01m.\u001b[39;00m\u001b[38;5;21;01mops\u001b[39;00m\u001b[38;5;21;01m.\u001b[39;00m\u001b[38;5;21;01mload_module\u001b[39;00m \u001b[38;5;28;01mimport\u001b[39;00m load_module\n\u001b[0;32m---> 19\u001b[0m SIM_OP_MODULE \u001b[38;5;241m=\u001b[39m \u001b[43mload_module\u001b[49m\u001b[43m(\u001b[49m\u001b[38;5;124;43m\"\u001b[39;49m\u001b[38;5;124;43m_tfq_simulate_ops.so\u001b[39;49m\u001b[38;5;124;43m\"\u001b[39;49m\u001b[43m)\u001b[49m\n\u001b[1;32m     22\u001b[0m \u001b[38;5;28;01mdef\u001b[39;00m \u001b[38;5;21mtfq_simulate_expectation\u001b[39m(programs, symbol_names, symbol_values, pauli_sums):\n\u001b[1;32m     23\u001b[0m \u001b[38;5;250m    \u001b[39m\u001b[38;5;124;03m\"\"\"Calculate the expectation value of circuits wrt some operator(s)\u001b[39;00m\n\u001b[1;32m     24\u001b[0m \n\u001b[1;32m     25\u001b[0m \u001b[38;5;124;03m    Args:\u001b[39;00m\n\u001b[0;32m   (...)\u001b[0m\n\u001b[1;32m     42\u001b[0m \u001b[38;5;124;03m            (after resolving the corresponding parameters in).\u001b[39;00m\n\u001b[1;32m     43\u001b[0m \u001b[38;5;124;03m    \"\"\"\u001b[39;00m\n",
      "File \u001b[0;32m~/sdp/env/lib/python3.8/site-packages/tensorflow_quantum/core/ops/load_module.py:46\u001b[0m, in \u001b[0;36mload_module\u001b[0;34m(name)\u001b[0m\n\u001b[1;32m     43\u001b[0m \u001b[38;5;28;01mexcept\u001b[39;00m:\n\u001b[1;32m     44\u001b[0m     path \u001b[38;5;241m=\u001b[39m os\u001b[38;5;241m.\u001b[39mpath\u001b[38;5;241m.\u001b[39mjoin(get_python_lib(), \u001b[38;5;124m\"\u001b[39m\u001b[38;5;124mtensorflow_quantum/core/ops\u001b[39m\u001b[38;5;124m\"\u001b[39m,\n\u001b[1;32m     45\u001b[0m                         name)\n\u001b[0;32m---> 46\u001b[0m     \u001b[38;5;28;01mreturn\u001b[39;00m \u001b[43mload_library\u001b[49m\u001b[38;5;241;43m.\u001b[39;49m\u001b[43mload_op_library\u001b[49m\u001b[43m(\u001b[49m\u001b[43mpath\u001b[49m\u001b[43m)\u001b[49m\n",
      "File \u001b[0;32m~/sdp/env/lib/python3.8/site-packages/tensorflow/python/framework/load_library.py:54\u001b[0m, in \u001b[0;36mload_op_library\u001b[0;34m(library_filename)\u001b[0m\n\u001b[1;32m     31\u001b[0m \u001b[38;5;129m@tf_export\u001b[39m(\u001b[38;5;124m'\u001b[39m\u001b[38;5;124mload_op_library\u001b[39m\u001b[38;5;124m'\u001b[39m)\n\u001b[1;32m     32\u001b[0m \u001b[38;5;28;01mdef\u001b[39;00m \u001b[38;5;21mload_op_library\u001b[39m(library_filename):\n\u001b[1;32m     33\u001b[0m \u001b[38;5;250m  \u001b[39m\u001b[38;5;124;03m\"\"\"Loads a TensorFlow plugin, containing custom ops and kernels.\u001b[39;00m\n\u001b[1;32m     34\u001b[0m \n\u001b[1;32m     35\u001b[0m \u001b[38;5;124;03m  Pass \"library_filename\" to a platform-specific mechanism for dynamically\u001b[39;00m\n\u001b[0;32m   (...)\u001b[0m\n\u001b[1;32m     52\u001b[0m \u001b[38;5;124;03m    RuntimeError: when unable to load the library or get the python wrappers.\u001b[39;00m\n\u001b[1;32m     53\u001b[0m \u001b[38;5;124;03m  \"\"\"\u001b[39;00m\n\u001b[0;32m---> 54\u001b[0m   lib_handle \u001b[38;5;241m=\u001b[39m \u001b[43mpy_tf\u001b[49m\u001b[38;5;241;43m.\u001b[39;49m\u001b[43mTF_LoadLibrary\u001b[49m\u001b[43m(\u001b[49m\u001b[43mlibrary_filename\u001b[49m\u001b[43m)\u001b[49m\n\u001b[1;32m     55\u001b[0m   \u001b[38;5;28;01mtry\u001b[39;00m:\n\u001b[1;32m     56\u001b[0m     wrappers \u001b[38;5;241m=\u001b[39m _pywrap_python_op_gen\u001b[38;5;241m.\u001b[39mGetPythonWrappers(\n\u001b[1;32m     57\u001b[0m         py_tf\u001b[38;5;241m.\u001b[39mTF_GetOpList(lib_handle))\n",
      "\u001b[0;31mNotFoundError\u001b[0m: /home/raag/sdp/env/lib/python3.8/site-packages/tensorflow_quantum/core/ops/_tfq_simulate_ops.so: undefined symbol: _ZNK10tensorflow8OpKernel11TraceStringERKNS_15OpKernelContextEb"
     ]
    }
   ],
   "source": [
    "import tensorflow as tf\n",
    "import tensorflow_quantum as tfq\n",
    "import cirq\n",
    "import sympy\n",
    "import numpy as np"
   ]
  },
  {
   "cell_type": "code",
   "execution_count": null,
   "metadata": {},
   "outputs": [],
   "source": []
  }
 ],
 "metadata": {
  "kernelspec": {
   "display_name": "env",
   "language": "python",
   "name": "python3"
  },
  "language_info": {
   "codemirror_mode": {
    "name": "ipython",
    "version": 3
   },
   "file_extension": ".py",
   "mimetype": "text/x-python",
   "name": "python",
   "nbconvert_exporter": "python",
   "pygments_lexer": "ipython3",
   "version": "3.8.10"
  }
 },
 "nbformat": 4,
 "nbformat_minor": 2
}
