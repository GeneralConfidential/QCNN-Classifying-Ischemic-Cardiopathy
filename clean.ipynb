{
 "cells": [
  {
   "cell_type": "code",
   "execution_count": 1,
   "metadata": {},
   "outputs": [],
   "source": [
    "import cv2\n",
    "import os\n",
    "import numpy as np"
   ]
  },
  {
   "cell_type": "code",
   "execution_count": 2,
   "metadata": {},
   "outputs": [],
   "source": [
    "base_dir = \"./data\" \n",
    "sub_dirs = [\n",
    "    'train',\n",
    "    'test'\n",
    "]  \n",
    "categories = [\n",
    "    'Apple Scab Leaf',\n",
    "    'Apple leaf',\n",
    "    'Apple rust leaf',\n",
    "    'Bell_pepper leaf',\n",
    "    'Bell_pepper leaf spot',\n",
    "    'Blueberry leaf',\n",
    "    'Cherry leaf',\n",
    "    'Corn Gray leaf spot',\n",
    "    'Corn leaf blight',\n",
    "    'Corn rust leaf',\n",
    "    'Peach leaf',\n",
    "    'Potato leaf early blight',\n",
    "    'Potato leaf late blight',\n",
    "    'Raspberry leaf',\n",
    "    'Soyabean leaf',\n",
    "    'Squash Powdery mildew leaf',\n",
    "    'Strawberry leaf',\n",
    "    'Tomato Early blight leaf',\n",
    "    'Tomato Septoria leaf spot',\n",
    "    'Tomato leaf',\n",
    "    'Tomato leaf bacterial spot',\n",
    "    'Tomato leaf late blight',\n",
    "    'Tomato leaf mosaic virus',\n",
    "    'Tomato leaf yellow virus',\n",
    "    'Tomato mold leaf',\n",
    "    'Tomato two spotted spider mites leaf',\n",
    "    'grape leaf',\n",
    "    'grape leaf black rot'\n",
    "]\n",
    "\n",
    "images = {\n",
    "    'train': {},\n",
    "    'test': {}\n",
    "}\n",
    "\n",
    "resize_dim = (224, 224)"
   ]
  },
  {
   "cell_type": "code",
   "execution_count": 3,
   "metadata": {},
   "outputs": [
    {
     "name": "stdout",
     "output_type": "stream",
     "text": [
      "Category path does not exist: ./data/test/Tomato two spotted spider mites leaf\n"
     ]
    }
   ],
   "source": [
    "for sub_dir in sub_dirs:\n",
    "    for category in categories:\n",
    "        category_path = os.path.join(base_dir, sub_dir, category)\n",
    "        images[sub_dir][category] = []\n",
    "        \n",
    "        if os.path.exists(category_path):\n",
    "            for img_name in os.listdir(category_path):\n",
    "                img_path = os.path.join(category_path, img_name)\n",
    "                img = cv2.imread(img_path)\n",
    "                img = cv2.resize(img, resize_dim)\n",
    "                # img = cv2.cvtColor(img, cv2.COLOR_BGR2GRAY)\n",
    "                images[sub_dir][category].append(img)\n",
    "        else:\n",
    "            print(f\"Category path does not exist: {category_path}\")\n"
   ]
  },
  {
   "cell_type": "code",
   "execution_count": 5,
   "metadata": {},
   "outputs": [
    {
     "name": "stdout",
     "output_type": "stream",
     "text": [
      "Loaded 8 Tomato leaf images from the Testing set.\n"
     ]
    }
   ],
   "source": [
    "test_tomato_leaf_images = images['test']['Tomato leaf']\n",
    "\n",
    "print(f\"Loaded {len(test_tomato_leaf_images)} Tomato leaf images from the Testing set.\")"
   ]
  }
 ],
 "metadata": {
  "kernelspec": {
   "display_name": "env",
   "language": "python",
   "name": "python3"
  },
  "language_info": {
   "codemirror_mode": {
    "name": "ipython",
    "version": 3
   },
   "file_extension": ".py",
   "mimetype": "text/x-python",
   "name": "python",
   "nbconvert_exporter": "python",
   "pygments_lexer": "ipython3",
   "version": "3.8.10"
  }
 },
 "nbformat": 4,
 "nbformat_minor": 2
}
